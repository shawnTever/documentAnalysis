{
 "cells": [
  {
   "cell_type": "markdown",
   "metadata": {},
   "source": [
    "# Python Demo"
   ]
  },
  {
   "cell_type": "markdown",
   "metadata": {},
   "source": [
    "This notebook is provided to get you familiar with the basics of the Python programming language and the Jupyter Notebook environment."
   ]
  },
  {
   "cell_type": "markdown",
   "metadata": {},
   "source": [
    "## Jupyter Basics\n",
    "A Jupyter notebook consists of a series of 'cells'. Each cell can contain either Python code or markdown text, depending on its cell type. You can change the type of a cell by selecting the cell then going to the menu at the top of the page and selecting Cell -> Cell Type -> (select the type you want)."
   ]
  },
  {
   "cell_type": "markdown",
   "metadata": {},
   "source": [
    "This cell contains markdown"
   ]
  },
  {
   "cell_type": "code",
   "execution_count": 4,
   "metadata": {},
   "outputs": [
    {
     "name": "stdout",
     "output_type": "stream",
     "text": [
      "And this one contains code\n"
     ]
    }
   ],
   "source": [
    "print('And this one contains code')"
   ]
  },
  {
   "cell_type": "markdown",
   "metadata": {},
   "source": [
    "You can create a new cell by selecting Insert -> Cell Above/Below. Try making your own cell."
   ]
  },
  {
   "cell_type": "markdown",
   "metadata": {},
   "source": [
    "You can run a cell by selecting it and then clicking Cell -> Run Cells. Running a markdown cell will render the markdown text, while running a code cell will execute the code."
   ]
  },
  {
   "cell_type": "markdown",
   "metadata": {},
   "source": [
    "It is important to note that all of the cells in this notebook share the same python interpreter. This means that if you define a variable in one cell, it will be available in all other cells. It also means that if you run a cell that defines variables, those variables will still exist even if you change the code in the cell. This can cause confusing results, so it is recommended to use Kernel -> Restart & Run All to reset the interpreter to check your notebook works correctly with the latest code."
   ]
  },
  {
   "cell_type": "markdown",
   "metadata": {},
   "source": [
    "## Python Basics: Variables and Functions\n",
    "\n",
    "Variables can be defined by simply assigning a value to a variable name."
   ]
  },
  {
   "cell_type": "code",
   "execution_count": 5,
   "metadata": {},
   "outputs": [],
   "source": [
    "my_var1 = 6\n",
    "my_var2 = 'Hello'\n",
    "my_var3 = 'World!'"
   ]
  },
  {
   "cell_type": "code",
   "execution_count": 6,
   "metadata": {},
   "outputs": [
    {
     "name": "stdout",
     "output_type": "stream",
     "text": [
      "6\n",
      "Hello\n",
      "World!\n"
     ]
    }
   ],
   "source": [
    "# Single-line comments are preceded by '#'\n",
    "print(my_var1) # 'print' built in function outputs text representation of objects\n",
    "print(my_var2)\n",
    "print(my_var3)"
   ]
  },
  {
   "cell_type": "markdown",
   "metadata": {},
   "source": [
    "Python is a weakly typed language which means you do not need to specify the type of your variables, however the variables are still given a type based on the value that is assigned to them. This type can be seen by using the 'type' built in function"
   ]
  },
  {
   "cell_type": "code",
   "execution_count": 7,
   "metadata": {},
   "outputs": [
    {
     "data": {
      "text/plain": [
       "int"
      ]
     },
     "execution_count": 7,
     "metadata": {},
     "output_type": "execute_result"
    }
   ],
   "source": [
    "type(my_var1)"
   ]
  },
  {
   "cell_type": "code",
   "execution_count": 8,
   "metadata": {},
   "outputs": [
    {
     "data": {
      "text/plain": [
       "str"
      ]
     },
     "execution_count": 8,
     "metadata": {},
     "output_type": "execute_result"
    }
   ],
   "source": [
    "type(my_var2)"
   ]
  },
  {
   "cell_type": "markdown",
   "metadata": {},
   "source": [
    "Functions are defined using the 'def' keyword.\n",
    "In Python, code segments are denoted by indents. This means that all of the code which is indented after the function definition is part of the function body."
   ]
  },
  {
   "cell_type": "code",
   "execution_count": 9,
   "metadata": {},
   "outputs": [
    {
     "name": "stdout",
     "output_type": "stream",
     "text": [
      "1\n"
     ]
    }
   ],
   "source": [
    "def my_func1():\n",
    "    # This is indented and so is part of the function body\n",
    "    return 1\n",
    "\n",
    "# This is not indented so the function body has ended.\n",
    "print(my_func1())"
   ]
  },
  {
   "cell_type": "markdown",
   "metadata": {},
   "source": [
    "Functions can take parameters as input. Parameters can be given a default value by using '='. When calling functions, parameters with default values do not need to be provided as arguments, in which case their default value will be used."
   ]
  },
  {
   "cell_type": "code",
   "execution_count": 10,
   "metadata": {},
   "outputs": [
    {
     "name": "stdout",
     "output_type": "stream",
     "text": [
      "3\n",
      "7\n",
      "6\n"
     ]
    }
   ],
   "source": [
    "def my_func2(my_param1, my_param2=6, my_param3=1):\n",
    "    x = my_param1 + my_param2 - my_param3\n",
    "    return x\n",
    "\n",
    "print(my_func2(1, 3))\n",
    "print(my_func2(2))\n",
    "print(my_func2(2, my_param3=2))"
   ]
  },
  {
   "cell_type": "markdown",
   "metadata": {},
   "source": [
    "## Python Basics: Control"
   ]
  },
  {
   "cell_type": "markdown",
   "metadata": {},
   "source": [
    "Python offers the 3 basic controls: while, for, and if-else."
   ]
  },
  {
   "cell_type": "code",
   "execution_count": 11,
   "metadata": {},
   "outputs": [
    {
     "name": "stdout",
     "output_type": "stream",
     "text": [
      "10\n",
      "10\n",
      "False\n"
     ]
    }
   ],
   "source": [
    "i = 0\n",
    "while i<10:\n",
    "    i += 1\n",
    "print(i)\n",
    "\n",
    "for i in range(10): # range(n) creates an iterable of all the integers starting from 0 and going up to n-1\n",
    "    # The for loop statement sets i to be each of these values in turn.\n",
    "    # Note that this overwrites the previously existing i\n",
    "    i += 1\n",
    "\n",
    "# The i variable from the for loop still exists\n",
    "print(i)\n",
    "\n",
    "if i > 10:\n",
    "    print(True)\n",
    "else:\n",
    "    print(False)"
   ]
  },
  {
   "cell_type": "markdown",
   "metadata": {},
   "source": [
    "While Python does have while and for loops, it is worth mentioning that good Python code typically avoids using these where possible. This is because these loops are very slow in Python (and interpreted languages in general). Instead, vectorized functions and comprehensions (which we will cover later) are preferred, as these are usually much faster."
   ]
  },
  {
   "cell_type": "markdown",
   "metadata": {},
   "source": [
    "## Python Data Structures\n",
    "The main data structures we will be using are lists, sets, and dictionaries (dicts). Python dicts store (key, value) pairs, and allow the corresponding value of a key to be retrieved very quickly. They are analagous to hash maps in other programming languages. "
   ]
  },
  {
   "cell_type": "code",
   "execution_count": 12,
   "metadata": {},
   "outputs": [
    {
     "name": "stdout",
     "output_type": "stream",
     "text": [
      "1\n",
      "4\n",
      "True\n"
     ]
    }
   ],
   "source": [
    "my_list = [1, 2, 3]\n",
    "my_set = {'a', 'b', 'c'}\n",
    "my_dict = {'d': 4, 'e': 5, 'f': 6}\n",
    "\n",
    "print(my_list[0]) # list elements can be retrieved by specifying an index (0-based).\n",
    "print(my_dict['d']) # dict elements can be retrieved by specifying a key.\n",
    "print('a' in my_set) # individual elements cannot be retrieved from a set, but the prescence of an element can be checked."
   ]
  },
  {
   "cell_type": "markdown",
   "metadata": {},
   "source": [
    "Lists and dicts can also be modified after they have been created."
   ]
  },
  {
   "cell_type": "code",
   "execution_count": 13,
   "metadata": {},
   "outputs": [
    {
     "name": "stdout",
     "output_type": "stream",
     "text": [
      "[1, 2, 3, 4]\n",
      "{'d': 4, 'e': 5, 'f': 6, 'g': 7}\n"
     ]
    }
   ],
   "source": [
    "my_list.append(4) # Add another element, 4, to the end of the list.\n",
    "print(my_list)\n",
    "\n",
    "my_dict['g'] = 7 # Add another key-value pair, ('g', 7), to the dict.\n",
    "print(my_dict)"
   ]
  },
  {
   "cell_type": "markdown",
   "metadata": {},
   "source": [
    "Lists and dicts can also be created using comprehensions. Comprehensions allow you to specify a formula for creating a data structure."
   ]
  },
  {
   "cell_type": "code",
   "execution_count": 14,
   "metadata": {},
   "outputs": [
    {
     "name": "stdout",
     "output_type": "stream",
     "text": [
      "[0, 1, 4, 9, 16, 25, 36, 49, 64, 81]\n",
      "{0, 1, 2, 3, 4, 5, 6, 7, 8, 9}\n",
      "{0: 1, 1: 4, 2: 7, 3: 10, 4: 13, 5: 16, 6: 19, 7: 22, 8: 25, 9: 28}\n"
     ]
    }
   ],
   "source": [
    "my_list2 = [i * i for i in range(10)] # Creates a list of the first 10 square integers.\n",
    "my_set2 = {i for i in range(10)}\n",
    "my_dict2 = {i: i*3 + 1 for i in range(10)}\n",
    "\n",
    "print(my_list2)\n",
    "print(my_set2)\n",
    "print(my_dict2)"
   ]
  },
  {
   "cell_type": "code",
   "execution_count": 15,
   "metadata": {},
   "outputs": [
    {
     "name": "stdout",
     "output_type": "stream",
     "text": [
      "[0, 1, 8, 27, 64, 125, 216, 343, 512, 729]\n"
     ]
    }
   ],
   "source": [
    "# Comprehensions can also range over the elements in a data structure.\n",
    "my_list3 = [my_list2[i] * i for i in my_set2]\n",
    "print(my_list3)"
   ]
  },
  {
   "cell_type": "markdown",
   "metadata": {},
   "source": [
    "### Exercise\n",
    "Try using a dict comprehension to create a dict that maps each of the elements in my_list2 to a boolean value representing whether or not the value is in my_set2"
   ]
  },
  {
   "cell_type": "code",
   "execution_count": 17,
   "metadata": {},
   "outputs": [
    {
     "name": "stdout",
     "output_type": "stream",
     "text": [
      "{0: True, 1: True, 4: True, 9: True, 16: False, 25: False, 36: False, 49: False, 64: False, 81: False}\n"
     ]
    }
   ],
   "source": [
    "dictionary = {}\n",
    "for a in my_list2:\n",
    "    if a in my_set2:\n",
    "        dictionary[a] = True\n",
    "    else:\n",
    "        dictionary[a] = False\n",
    "print(dictionary)"
   ]
  },
  {
   "cell_type": "markdown",
   "metadata": {},
   "source": [
    "## Numpy\n",
    "Numpy contains functions for performing common numerical calculations, on numbers as well as vectors and matrices."
   ]
  },
  {
   "cell_type": "code",
   "execution_count": 18,
   "metadata": {},
   "outputs": [],
   "source": [
    "import numpy as np # This statement imports the package numpy and gives it the name np"
   ]
  },
  {
   "cell_type": "markdown",
   "metadata": {},
   "source": [
    "Numpy provides an array data type, which can be used to store matrix values."
   ]
  },
  {
   "cell_type": "code",
   "execution_count": 19,
   "metadata": {},
   "outputs": [
    {
     "name": "stdout",
     "output_type": "stream",
     "text": [
      "[[1. 2. 3.]\n",
      " [4. 5. 6.]]\n",
      "(2, 3)\n",
      "[[1. 2.]\n",
      " [3. 4.]\n",
      " [5. 6.]]\n",
      "(3, 2)\n"
     ]
    }
   ],
   "source": [
    "my_array1 = np.array([[1.0, 2.0, 3.0], [4.0, 5.0, 6.0]]) # This is a 2x3 matrix.\n",
    "my_array2 = np.array([[1.0, 2.0], [3.0, 4.0], [5.0, 6.0]]) # This is a 3x2 matrix.\n",
    "\n",
    "print(my_array1)\n",
    "print(my_array1.shape)\n",
    "\n",
    "print(my_array2)\n",
    "print(my_array2.shape)"
   ]
  },
  {
   "cell_type": "code",
   "execution_count": 20,
   "metadata": {},
   "outputs": [
    {
     "data": {
      "text/plain": [
       "21.0"
      ]
     },
     "execution_count": 20,
     "metadata": {},
     "output_type": "execute_result"
    }
   ],
   "source": [
    "np.sum(my_array1)"
   ]
  },
  {
   "cell_type": "code",
   "execution_count": 21,
   "metadata": {},
   "outputs": [
    {
     "data": {
      "text/plain": [
       "array([[22., 28.],\n",
       "       [49., 64.]])"
      ]
     },
     "execution_count": 21,
     "metadata": {},
     "output_type": "execute_result"
    }
   ],
   "source": [
    "np.matmul(my_array1, my_array2) # Matrix multiplication"
   ]
  },
  {
   "cell_type": "code",
   "execution_count": 17,
   "metadata": {},
   "outputs": [
    {
     "name": "stdout",
     "output_type": "stream",
     "text": [
      "[[1. 3. 5.]\n",
      " [2. 4. 6.]]\n",
      "(2, 3)\n"
     ]
    }
   ],
   "source": [
    "# Matrix transpose\n",
    "print(np.transpose(my_array2))\n",
    "print(np.transpose(my_array2).shape)"
   ]
  },
  {
   "cell_type": "markdown",
   "metadata": {},
   "source": [
    "Operations such as '+' and '*' can be directly applied to matrices, where they will be applied element-wise. Note that this means that the operands must have the same shape."
   ]
  },
  {
   "cell_type": "code",
   "execution_count": 18,
   "metadata": {},
   "outputs": [
    {
     "data": {
      "text/plain": [
       "array([[ 2.,  5.,  8.],\n",
       "       [ 6.,  9., 12.]])"
      ]
     },
     "execution_count": 18,
     "metadata": {},
     "output_type": "execute_result"
    }
   ],
   "source": [
    "my_array1 + np.transpose(my_array2)"
   ]
  },
  {
   "cell_type": "markdown",
   "metadata": {},
   "source": [
    "Arrays can also be indexed, just like lists. The first index describes the rows to be selected, and the second index describes the columns to be selected."
   ]
  },
  {
   "cell_type": "code",
   "execution_count": 19,
   "metadata": {},
   "outputs": [
    {
     "name": "stdout",
     "output_type": "stream",
     "text": [
      "2.0\n"
     ]
    }
   ],
   "source": [
    "print(my_array1[0, 1]) # The element in the first row and second column."
   ]
  },
  {
   "cell_type": "code",
   "execution_count": 20,
   "metadata": {},
   "outputs": [
    {
     "name": "stdout",
     "output_type": "stream",
     "text": [
      "[[4. 5. 6.]]\n"
     ]
    }
   ],
   "source": [
    "print(my_array1[1:]) # Everything from the second row onwards."
   ]
  },
  {
   "cell_type": "code",
   "execution_count": 21,
   "metadata": {},
   "outputs": [
    {
     "name": "stdout",
     "output_type": "stream",
     "text": [
      "[[2. 3.]\n",
      " [5. 6.]]\n"
     ]
    }
   ],
   "source": [
    "print(my_array1[:, 1:]) # Everything from the second column onwards."
   ]
  },
  {
   "cell_type": "code",
   "execution_count": 22,
   "metadata": {},
   "outputs": [
    {
     "name": "stdout",
     "output_type": "stream",
     "text": [
      "[[1. 2. 3.]]\n"
     ]
    }
   ],
   "source": [
    "print(my_array1[:-1]) # Everything upto (but not including) the last row"
   ]
  },
  {
   "cell_type": "markdown",
   "metadata": {},
   "source": [
    "### Exercise\n",
    "Try computing the sum of all of the elements in my_array1 except for the last column."
   ]
  },
  {
   "cell_type": "code",
   "execution_count": 22,
   "metadata": {},
   "outputs": [
    {
     "name": "stdout",
     "output_type": "stream",
     "text": [
      "12.0\n"
     ]
    }
   ],
   "source": [
    "print(np.sum(my_array1[:, :-1]))"
   ]
  },
  {
   "cell_type": "markdown",
   "metadata": {},
   "source": [
    "## Pandas\n",
    "\n",
    "Pandas provides a DataFrame class, which is used to store tabular data. The DataFrame has a list of column names, and each column name is assosciated with a column of data."
   ]
  },
  {
   "cell_type": "code",
   "execution_count": 23,
   "metadata": {},
   "outputs": [],
   "source": [
    "import pandas as pd"
   ]
  },
  {
   "cell_type": "markdown",
   "metadata": {},
   "source": [
    "DataFrames can be created from a dict that maps each column name to a list of values. Alternatively, if you already have your data in a csv file then you can use pd.read_csv to create a DataFrame object from it, where the first row is used as the column names."
   ]
  },
  {
   "cell_type": "code",
   "execution_count": 24,
   "metadata": {},
   "outputs": [
    {
     "name": "stdout",
     "output_type": "stream",
     "text": [
      "    c1 c2     c3\n",
      "0  1.0  a   True\n",
      "1  2.0  b  False\n",
      "2  3.0  c   True\n",
      "(3, 3)\n"
     ]
    }
   ],
   "source": [
    "my_df = pd.DataFrame({'c1': [1.0, 2.0, 3.0],\n",
    "             'c2': ['a', 'b', 'c'],\n",
    "             'c3': [True, False, True]})\n",
    "\n",
    "print(my_df)\n",
    "print(my_df.shape)"
   ]
  },
  {
   "cell_type": "markdown",
   "metadata": {},
   "source": [
    "You can index elements in a DataFrame just like an array by using df.iloc[]."
   ]
  },
  {
   "cell_type": "code",
   "execution_count": 25,
   "metadata": {},
   "outputs": [
    {
     "data": {
      "text/html": [
       "<div>\n",
       "<style scoped>\n",
       "    .dataframe tbody tr th:only-of-type {\n",
       "        vertical-align: middle;\n",
       "    }\n",
       "\n",
       "    .dataframe tbody tr th {\n",
       "        vertical-align: top;\n",
       "    }\n",
       "\n",
       "    .dataframe thead th {\n",
       "        text-align: right;\n",
       "    }\n",
       "</style>\n",
       "<table border=\"1\" class=\"dataframe\">\n",
       "  <thead>\n",
       "    <tr style=\"text-align: right;\">\n",
       "      <th></th>\n",
       "      <th>c1</th>\n",
       "      <th>c2</th>\n",
       "    </tr>\n",
       "  </thead>\n",
       "  <tbody>\n",
       "    <tr>\n",
       "      <th>1</th>\n",
       "      <td>2.0</td>\n",
       "      <td>b</td>\n",
       "    </tr>\n",
       "    <tr>\n",
       "      <th>2</th>\n",
       "      <td>3.0</td>\n",
       "      <td>c</td>\n",
       "    </tr>\n",
       "  </tbody>\n",
       "</table>\n",
       "</div>"
      ],
      "text/plain": [
       "    c1 c2\n",
       "1  2.0  b\n",
       "2  3.0  c"
      ]
     },
     "execution_count": 25,
     "metadata": {},
     "output_type": "execute_result"
    }
   ],
   "source": [
    "my_df.iloc[1:, :2] # From the second row on, up to the second column"
   ]
  },
  {
   "cell_type": "markdown",
   "metadata": {},
   "source": [
    "You can also index a DataFrame by using column names"
   ]
  },
  {
   "cell_type": "code",
   "execution_count": 26,
   "metadata": {},
   "outputs": [
    {
     "data": {
      "text/plain": [
       "0    a\n",
       "1    b\n",
       "2    c\n",
       "Name: c2, dtype: object"
      ]
     },
     "execution_count": 26,
     "metadata": {},
     "output_type": "execute_result"
    }
   ],
   "source": [
    "my_df['c2']"
   ]
  },
  {
   "cell_type": "markdown",
   "metadata": {},
   "source": [
    "# File I/O\n",
    "\n",
    "In Python reading and writing to files can be done using the 'open' keyword, which creates a file handle for the given path. It is good practice to always use 'open' inside a 'with' clause. This will ensure that the file handle is closed properly once the with clause finishes."
   ]
  },
  {
   "cell_type": "code",
   "execution_count": 27,
   "metadata": {},
   "outputs": [],
   "source": [
    "with open('my_file.txt', 'w') as f: # Note that the 'w' means we want to write strings to this path.\n",
    "    # *IMPORTANT* If the file already exists, it will be overwritten.\n",
    "    f.write('Hello\\nWorld!')\n",
    "# After the with clause, the file will be closed."
   ]
  },
  {
   "cell_type": "markdown",
   "metadata": {},
   "source": [
    "You should now see that a my_file.txt file has been created in the same directory as this notebook."
   ]
  },
  {
   "cell_type": "code",
   "execution_count": 28,
   "metadata": {},
   "outputs": [
    {
     "data": {
      "text/plain": [
       "'Hello\\nWorld!'"
      ]
     },
     "execution_count": 28,
     "metadata": {},
     "output_type": "execute_result"
    }
   ],
   "source": [
    "with open('my_file.txt', 'r') as f: # Note that the 'r' means we want to read a string from this path.\n",
    "    text = f.read() # Create a string containing all of the file contents.\n",
    "\n",
    "text"
   ]
  },
  {
   "cell_type": "markdown",
   "metadata": {},
   "source": [
    "# Strings\n",
    "\n",
    "In this course we will be working extensively with strings (documents), as such you will need to be comfortable manipulating them.\n",
    "\n",
    "Strings can be indexed just like lists."
   ]
  },
  {
   "cell_type": "code",
   "execution_count": 29,
   "metadata": {},
   "outputs": [
    {
     "data": {
      "text/plain": [
       "'H'"
      ]
     },
     "execution_count": 29,
     "metadata": {},
     "output_type": "execute_result"
    }
   ],
   "source": [
    "text[0]"
   ]
  },
  {
   "cell_type": "code",
   "execution_count": 30,
   "metadata": {},
   "outputs": [
    {
     "data": {
      "text/plain": [
       "'World!'"
      ]
     },
     "execution_count": 30,
     "metadata": {},
     "output_type": "execute_result"
    }
   ],
   "source": [
    "text[-6:]"
   ]
  },
  {
   "cell_type": "markdown",
   "metadata": {},
   "source": [
    "Python provides various functions which check properties of strings."
   ]
  },
  {
   "cell_type": "code",
   "execution_count": 31,
   "metadata": {},
   "outputs": [
    {
     "name": "stdout",
     "output_type": "stream",
     "text": [
      "True\n",
      "False\n"
     ]
    }
   ],
   "source": [
    "print(text[0].isupper()) # True iff the string is entirely capital\n",
    "print(text.isupper())"
   ]
  },
  {
   "cell_type": "code",
   "execution_count": 32,
   "metadata": {},
   "outputs": [
    {
     "data": {
      "text/plain": [
       "False"
      ]
     },
     "execution_count": 32,
     "metadata": {},
     "output_type": "execute_result"
    }
   ],
   "source": [
    "text.isdigit() # True iff the string is entirely made up of digits"
   ]
  },
  {
   "cell_type": "markdown",
   "metadata": {},
   "source": [
    "In addition, Python has wide range of built in functionallity."
   ]
  },
  {
   "cell_type": "code",
   "execution_count": 33,
   "metadata": {},
   "outputs": [
    {
     "data": {
      "text/plain": [
       "['Hell', '\\nW', 'rld!']"
      ]
     },
     "execution_count": 33,
     "metadata": {},
     "output_type": "execute_result"
    }
   ],
   "source": [
    "text.split('o') # Returns a list containing the chunks between each occurence of the substring 'o'."
   ]
  },
  {
   "cell_type": "code",
   "execution_count": 34,
   "metadata": {},
   "outputs": [
    {
     "data": {
      "text/plain": [
       "['Hell', '\\nWorld!']"
      ]
     },
     "execution_count": 34,
     "metadata": {},
     "output_type": "execute_result"
    }
   ],
   "source": [
    "text.split('o', 1) # Can also specify the maximum number of splits, after this many splits have been found the rest is returned."
   ]
  },
  {
   "cell_type": "code",
   "execution_count": 35,
   "metadata": {},
   "outputs": [
    {
     "data": {
      "text/plain": [
       "'Hello,World!'"
      ]
     },
     "execution_count": 35,
     "metadata": {},
     "output_type": "execute_result"
    }
   ],
   "source": [
    "# join() is the opposite of split, it takes a list of strings and combines them into one.\n",
    "','.join(text.split('\\n'))"
   ]
  },
  {
   "cell_type": "code",
   "execution_count": 36,
   "metadata": {},
   "outputs": [
    {
     "data": {
      "text/plain": [
       "'Hello\\nWorld!!!'"
      ]
     },
     "execution_count": 36,
     "metadata": {},
     "output_type": "execute_result"
    }
   ],
   "source": [
    "text.replace('!', '!!!') # Returns a new string with all occurrences of substring '!' replaced with '!!!'."
   ]
  },
  {
   "cell_type": "code",
   "execution_count": 37,
   "metadata": {},
   "outputs": [
    {
     "data": {
      "text/plain": [
       "'Hello\\nWorld'"
      ]
     },
     "execution_count": 37,
     "metadata": {},
     "output_type": "execute_result"
    }
   ],
   "source": [
    "text.replace('!', '') # Can also be used to delete."
   ]
  },
  {
   "cell_type": "code",
   "execution_count": 38,
   "metadata": {},
   "outputs": [
    {
     "data": {
      "text/plain": [
       "4"
      ]
     },
     "execution_count": 38,
     "metadata": {},
     "output_type": "execute_result"
    }
   ],
   "source": [
    "text.index('o') # Returns the index of the first occurrence of 'o'."
   ]
  },
  {
   "cell_type": "markdown",
   "metadata": {},
   "source": [
    "Strings can be concatenated using the '+' operation"
   ]
  },
  {
   "cell_type": "code",
   "execution_count": 39,
   "metadata": {},
   "outputs": [
    {
     "name": "stdout",
     "output_type": "stream",
     "text": [
      "Hello\n",
      "World! Again!\n"
     ]
    }
   ],
   "source": [
    "print(text + ' Again!')"
   ]
  },
  {
   "cell_type": "markdown",
   "metadata": {},
   "source": [
    "Python also provides string formatting functionality in the form of 'f-strings'. When a string is prefixed with f, variables can be inserted inside { } and their values will be inserted into the string. This makes it easy to create strings from variable values."
   ]
  },
  {
   "cell_type": "code",
   "execution_count": 40,
   "metadata": {},
   "outputs": [
    {
     "data": {
      "text/plain": [
       "'my_list contains 4 elements, and its smallest value is 1'"
      ]
     },
     "execution_count": 40,
     "metadata": {},
     "output_type": "execute_result"
    }
   ],
   "source": [
    "f'my_list contains {len(my_list)} elements, and its smallest value is {min(my_list)}'"
   ]
  },
  {
   "cell_type": "markdown",
   "metadata": {},
   "source": [
    "### Exercise\n",
    "Try and use the text variable to create a string 'Hello All Worlds' by using replace."
   ]
  },
  {
   "cell_type": "markdown",
   "metadata": {},
   "source": [
    "# Further String Processing\n",
    "\n",
    "In this example we will perform some more advanced operations on some simple documents."
   ]
  },
  {
   "cell_type": "code",
   "execution_count": 41,
   "metadata": {},
   "outputs": [
    {
     "name": "stdout",
     "output_type": "stream",
     "text": [
      "There are 4 docs\n"
     ]
    },
    {
     "data": {
      "text/plain": [
       "['Barack Hussein Obama II (born August 4, 1961) is the 44th and current President of the United States, the first African American to hold the office. He served as the junior United States Senator from Illinois from January 2005 until he resigned after his election to the presidency in November 2008.',\n",
       " 'Obama is a graduate of Columbia University and Harvard Law School, where he was the president of the Harvard Law Review. He was a community organizer in Chicago before earning his law degree. He worked as a civil rights attorney in Chicago and also taught constitutional law at the University of Chicago Law School from 1992 to 2004.',\n",
       " 'Obama served three terms in the Illinois Senate from 1997 to 2004. Following an unsuccessful bid for a seat in the U.S. House of Representatives in 2000, Obama ran for United States Senate in 2004. His victory, from a crowded field, in the March 2004 Democratic primary raised his visibility. His prime-time televised keynote address at the Democratic National Convention in July 2004 made him a rising star nationally in the Democratic Party. He was elected to the U.S. Senate in November 2004 by the largest margin in the history of Illinois.',\n",
       " \"He began his run for the presidency in February 2007. After a close campaign in the 2008 Democratic Party presidential primaries against Hillary Rodham Clinton, he won his party's nomination, becoming the first major party African American candidate for president. In the 2008 general election, he defeated Republican nominee John McCain and was inaugurated as president on January 20, 2009.\"]"
      ]
     },
     "execution_count": 41,
     "metadata": {},
     "output_type": "execute_result"
    }
   ],
   "source": [
    "docs_string = \"Barack Hussein Obama II (born August 4, 1961) is the 44th and current President of the United States, the first African American to hold the office. He served as the junior United States Senator from Illinois from January 2005 until he resigned after his election to the presidency in November 2008.\\nObama is a graduate of Columbia University and Harvard Law School, where he was the president of the Harvard Law Review. He was a community organizer in Chicago before earning his law degree. He worked as a civil rights attorney in Chicago and also taught constitutional law at the University of Chicago Law School from 1992 to 2004.\\nObama served three terms in the Illinois Senate from 1997 to 2004. Following an unsuccessful bid for a seat in the U.S. House of Representatives in 2000, Obama ran for United States Senate in 2004. His victory, from a crowded field, in the March 2004 Democratic primary raised his visibility. His prime-time televised keynote address at the Democratic National Convention in July 2004 made him a rising star nationally in the Democratic Party. He was elected to the U.S. Senate in November 2004 by the largest margin in the history of Illinois.\\nHe began his run for the presidency in February 2007. After a close campaign in the 2008 Democratic Party presidential primaries against Hillary Rodham Clinton, he won his party's nomination, becoming the first major party African American candidate for president. In the 2008 general election, he defeated Republican nominee John McCain and was inaugurated as president on January 20, 2009.\"\n",
    "docs = docs_string.split('\\n') # Create a list of each document's text.\n",
    "print(f'There are {len(docs)} docs')\n",
    "docs"
   ]
  },
  {
   "cell_type": "markdown",
   "metadata": {},
   "source": [
    "Our goal is to answer the following question, \"Which of the 4 docs has the highest portion of numeric tokens in it?\".\n",
    "\n",
    "So we will need to calculate for each document, how many of its tokens are numbers and how many tokens it has.\n",
    "\n",
    "First, we will compute the number of tokens in each document."
   ]
  },
  {
   "cell_type": "code",
   "execution_count": 42,
   "metadata": {},
   "outputs": [
    {
     "data": {
      "text/plain": [
       "[51, 58, 92, 60]"
      ]
     },
     "execution_count": 42,
     "metadata": {},
     "output_type": "execute_result"
    }
   ],
   "source": [
    "def count(doc):\n",
    "    return len(doc.split()) # split() with no arguments will split the string on all whitespace.\n",
    "\n",
    "doc_lens = [count(doc) for doc in docs]\n",
    "doc_lens"
   ]
  },
  {
   "cell_type": "markdown",
   "metadata": {},
   "source": [
    "Next, we will find all of the tokens which are numbers.\n",
    "\n",
    "To do this we will make use of regular expressions, which are used to define patterns of strings."
   ]
  },
  {
   "cell_type": "code",
   "execution_count": 43,
   "metadata": {},
   "outputs": [
    {
     "data": {
      "text/plain": [
       "[['4', '1961', '44', '2005', '2008'],\n",
       " ['1992', '2004'],\n",
       " ['1997', '2004', '2000', '2004', '2004', '2004', '2004'],\n",
       " ['2007', '2008', '2008', '20', '2009']]"
      ]
     },
     "execution_count": 43,
     "metadata": {},
     "output_type": "execute_result"
    }
   ],
   "source": [
    "import re # The regular expression package\n",
    "\n",
    "\n",
    "def find_numbers(doc):\n",
    "    # Here, the regular expression [0-9]+ means to match all occurrences of one or more numbers in the range 0, 1, ..., 9\n",
    "    return re.findall('[0-9]+', doc)\n",
    "\n",
    "\n",
    "doc_numbers = [find_numbers(doc) for doc in docs]\n",
    "doc_numbers"
   ]
  },
  {
   "cell_type": "markdown",
   "metadata": {},
   "source": [
    "We are not ready to answer our question."
   ]
  },
  {
   "cell_type": "code",
   "execution_count": 44,
   "metadata": {},
   "outputs": [
    {
     "data": {
      "text/plain": [
       "[0.09803921568627451,\n",
       " 0.034482758620689655,\n",
       " 0.07608695652173914,\n",
       " 0.08333333333333333]"
      ]
     },
     "execution_count": 44,
     "metadata": {},
     "output_type": "execute_result"
    }
   ],
   "source": [
    "number_portions = [len(doc_numbers[i]) / float(doc_lens[i]) for i in range(len(doc_lens))]\n",
    "number_portions"
   ]
  },
  {
   "cell_type": "code",
   "execution_count": 45,
   "metadata": {},
   "outputs": [
    {
     "data": {
      "text/plain": [
       "0"
      ]
     },
     "execution_count": 45,
     "metadata": {},
     "output_type": "execute_result"
    }
   ],
   "source": [
    "np.argmax(number_portions)"
   ]
  },
  {
   "cell_type": "markdown",
   "metadata": {},
   "source": [
    "So the first document has the largest portion of numeric terms.\n",
    "\n",
    "Regular expressions can be used to match more complicated patterns, and you can see their full documentation here https://docs.python.org/2/library/re.html"
   ]
  }
 ],
 "metadata": {
  "kernelspec": {
   "display_name": "Python 3",
   "language": "python",
   "name": "python3"
  },
  "language_info": {
   "codemirror_mode": {
    "name": "ipython",
    "version": 3
   },
   "file_extension": ".py",
   "mimetype": "text/x-python",
   "name": "python",
   "nbconvert_exporter": "python",
   "pygments_lexer": "ipython3",
   "version": "3.7.4"
  }
 },
 "nbformat": 4,
 "nbformat_minor": 2
}
